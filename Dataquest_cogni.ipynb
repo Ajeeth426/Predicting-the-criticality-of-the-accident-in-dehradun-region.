{
 "cells": [
  {
   "cell_type": "code",
   "execution_count": 1,
   "metadata": {
    "collapsed": true
   },
   "outputs": [],
   "source": [
    "import pandas as pd\n",
    "import numpy as np\n",
    "import matplotlib.pyplot as plt\n",
    "%matplotlib inline\n",
    "from sklearn.ensemble import AdaBoostClassifier,BaggingClassifier,RandomForestClassifier,GradientBoostingClassifier\n",
    "import seaborn as sns\n",
    "from sklearn.metrics import confusion_matrix,roc_curve,precision_score,roc_auc_score,accuracy_score,recall_score\n",
    "from sklearn.preprocessing import LabelEncoder,OneHotEncoder,StandardScaler\n",
    "from sklearn.model_selection import train_test_split,KFold,cross_val_score,GridSearchCV\n",
    "from sklearn import metrics\n",
    "from xgboost import XGBClassifier\n",
    "from sklearn.linear_model import LogisticRegression\n",
    "from sklearn.calibration import CalibratedClassifierCV\n",
    "import xgboost as xgb\n",
    "import datetime\n",
    "import warnings\n",
    "warnings.filterwarnings('ignore')\n",
    "#Imports for better Visualisation\n",
    "from matplotlib import rcParams\n",
    "dark2_colors = [(0.10588235294117647, 0.6196078431372549, 0.4666666666666667),\n",
    "                (0.8509803921568627, 0.37254901960784315, 0.00784313725490196),\n",
    "                (0.4588235294117647, 0.4392156862745098, 0.7019607843137254),\n",
    "                (0.9058823529411765, 0.1607843137254902, 0.5411764705882353),\n",
    "                (0.4, 0.6509803921568628, 0.11764705882352941),\n",
    "                (0.9019607843137255, 0.6705882352941176, 0.00784313725490196),\n",
    "                (0.6509803921568628, 0.4627450980392157, 0.11372549019607843)]\n",
    "rcParams['figure.figsize'] = (8, 3)\n",
    "rcParams['figure.dpi'] = 150\n",
    "rcParams['axes.color_cycle'] = dark2_colors\n",
    "rcParams['lines.linewidth'] = 2\n",
    "rcParams['font.size'] = 14\n",
    "rcParams['patch.edgecolor'] = 'white'\n",
    "rcParams['patch.facecolor'] = dark2_colors[0]\n",
    "rcParams['font.family'] = 'StixGeneral'\n",
    "rcParams['axes.grid'] = True\n",
    "rcParams['axes.facecolor'] = '#eeeeee'"
   ]
  },
  {
   "cell_type": "code",
   "execution_count": 106,
   "metadata": {
    "collapsed": true
   },
   "outputs": [],
   "source": [
    "tr = pd.read_csv(\"Downloads/Cogni_data/train_DaEJRFg.csv\")\n",
    "te = pd.read_csv(\"Downloads/Cogni_data/test_TQDFDgg.csv\")\n",
    "sample = pd.read_csv(\"Downloads/Cogni_data/sample_submission_n2Tyn0h.csv\")"
   ]
  },
  {
   "cell_type": "code",
   "execution_count": 107,
   "metadata": {},
   "outputs": [
    {
     "name": "stdout",
     "output_type": "stream",
     "text": [
      "(11777, 12) (5048, 11)\n"
     ]
    }
   ],
   "source": [
    "print(tr.shape,te.shape)"
   ]
  },
  {
   "cell_type": "code",
   "execution_count": 108,
   "metadata": {},
   "outputs": [
    {
     "data": {
      "text/html": [
       "<div>\n",
       "<style>\n",
       "    .dataframe thead tr:only-child th {\n",
       "        text-align: right;\n",
       "    }\n",
       "\n",
       "    .dataframe thead th {\n",
       "        text-align: left;\n",
       "    }\n",
       "\n",
       "    .dataframe tbody tr th {\n",
       "        vertical-align: top;\n",
       "    }\n",
       "</style>\n",
       "<table border=\"1\" class=\"dataframe\">\n",
       "  <thead>\n",
       "    <tr style=\"text-align: right;\">\n",
       "      <th></th>\n",
       "      <th>victim_id</th>\n",
       "      <th>incident_time</th>\n",
       "      <th>incident_date</th>\n",
       "      <th>incident_location</th>\n",
       "      <th>incident_tehsil</th>\n",
       "      <th>cause_of_emergency</th>\n",
       "      <th>base_to_scene_distance</th>\n",
       "      <th>scene_to_hospital_distance</th>\n",
       "      <th>roadway_feature</th>\n",
       "      <th>road_type</th>\n",
       "      <th>surrounding_area</th>\n",
       "      <th>criticality</th>\n",
       "    </tr>\n",
       "  </thead>\n",
       "  <tbody>\n",
       "    <tr>\n",
       "      <th>0</th>\n",
       "      <td>VIC20120001987267</td>\n",
       "      <td>22:23:19</td>\n",
       "      <td>07-11-2012</td>\n",
       "      <td>Subhash Nagar</td>\n",
       "      <td>Raipur</td>\n",
       "      <td>Multiple Vehicular Incident</td>\n",
       "      <td>13</td>\n",
       "      <td>12</td>\n",
       "      <td>CUR</td>\n",
       "      <td>HIW</td>\n",
       "      <td>FOR</td>\n",
       "      <td>0</td>\n",
       "    </tr>\n",
       "    <tr>\n",
       "      <th>1</th>\n",
       "      <td>VIC20110002147887</td>\n",
       "      <td>20:23:09</td>\n",
       "      <td>02-11-2011</td>\n",
       "      <td>Coro Nation</td>\n",
       "      <td>Raipur</td>\n",
       "      <td>2 Wheeler accidents</td>\n",
       "      <td>1</td>\n",
       "      <td>5</td>\n",
       "      <td>CUR</td>\n",
       "      <td>HIW</td>\n",
       "      <td>AGL</td>\n",
       "      <td>0</td>\n",
       "    </tr>\n",
       "    <tr>\n",
       "      <th>2</th>\n",
       "      <td>VIC20090001391483</td>\n",
       "      <td>20:37:15</td>\n",
       "      <td>25-07-2009</td>\n",
       "      <td>Kewal Vihar</td>\n",
       "      <td>Raipur</td>\n",
       "      <td>Non motorised vehicle accidents(Bullock cart,B...</td>\n",
       "      <td>2</td>\n",
       "      <td>2</td>\n",
       "      <td>INT</td>\n",
       "      <td>LOC</td>\n",
       "      <td>HOSP</td>\n",
       "      <td>0</td>\n",
       "    </tr>\n",
       "    <tr>\n",
       "      <th>3</th>\n",
       "      <td>VIC20120000900722</td>\n",
       "      <td>15:20:22</td>\n",
       "      <td>19-05-2012</td>\n",
       "      <td>I S B T</td>\n",
       "      <td>Raipur</td>\n",
       "      <td>2 Wheeler accidents</td>\n",
       "      <td>8</td>\n",
       "      <td>4</td>\n",
       "      <td>CUR</td>\n",
       "      <td>HIW</td>\n",
       "      <td>HIL</td>\n",
       "      <td>0</td>\n",
       "    </tr>\n",
       "    <tr>\n",
       "      <th>4</th>\n",
       "      <td>VIC20100001241285</td>\n",
       "      <td>16:22:17</td>\n",
       "      <td>12-06-2010</td>\n",
       "      <td>Sahaspur Ambu</td>\n",
       "      <td>Sahaspur</td>\n",
       "      <td>2 Wheeler accidents</td>\n",
       "      <td>1</td>\n",
       "      <td>26</td>\n",
       "      <td>CUR</td>\n",
       "      <td>HIW</td>\n",
       "      <td>AGL</td>\n",
       "      <td>0</td>\n",
       "    </tr>\n",
       "  </tbody>\n",
       "</table>\n",
       "</div>"
      ],
      "text/plain": [
       "           victim_id incident_time incident_date incident_location  \\\n",
       "0  VIC20120001987267      22:23:19    07-11-2012     Subhash Nagar   \n",
       "1  VIC20110002147887      20:23:09    02-11-2011       Coro Nation   \n",
       "2  VIC20090001391483      20:37:15    25-07-2009       Kewal Vihar   \n",
       "3  VIC20120000900722      15:20:22    19-05-2012           I S B T   \n",
       "4  VIC20100001241285      16:22:17    12-06-2010     Sahaspur Ambu   \n",
       "\n",
       "  incident_tehsil                                 cause_of_emergency  \\\n",
       "0          Raipur                        Multiple Vehicular Incident   \n",
       "1          Raipur                                2 Wheeler accidents   \n",
       "2          Raipur  Non motorised vehicle accidents(Bullock cart,B...   \n",
       "3          Raipur                                2 Wheeler accidents   \n",
       "4        Sahaspur                                2 Wheeler accidents   \n",
       "\n",
       "   base_to_scene_distance  scene_to_hospital_distance roadway_feature  \\\n",
       "0                      13                          12             CUR   \n",
       "1                       1                           5             CUR   \n",
       "2                       2                           2             INT   \n",
       "3                       8                           4             CUR   \n",
       "4                       1                          26             CUR   \n",
       "\n",
       "  road_type surrounding_area  criticality  \n",
       "0       HIW              FOR            0  \n",
       "1       HIW              AGL            0  \n",
       "2       LOC             HOSP            0  \n",
       "3       HIW              HIL            0  \n",
       "4       HIW              AGL            0  "
      ]
     },
     "execution_count": 108,
     "metadata": {},
     "output_type": "execute_result"
    }
   ],
   "source": [
    "tr.head()"
   ]
  },
  {
   "cell_type": "code",
   "execution_count": 109,
   "metadata": {},
   "outputs": [
    {
     "data": {
      "text/plain": [
       "victim_id                       0\n",
       "incident_time                   0\n",
       "incident_date                   0\n",
       "incident_location             307\n",
       "incident_tehsil                 0\n",
       "cause_of_emergency              0\n",
       "base_to_scene_distance          0\n",
       "scene_to_hospital_distance      0\n",
       "roadway_feature                 0\n",
       "road_type                       0\n",
       "surrounding_area                0\n",
       "criticality                     0\n",
       "dtype: int64"
      ]
     },
     "execution_count": 109,
     "metadata": {},
     "output_type": "execute_result"
    }
   ],
   "source": [
    "tr.isnull().sum()"
   ]
  },
  {
   "cell_type": "code",
   "execution_count": 110,
   "metadata": {},
   "outputs": [
    {
     "data": {
      "text/plain": [
       "victim_id                       0\n",
       "incident_time                   0\n",
       "incident_date                   0\n",
       "incident_location             113\n",
       "incident_tehsil                 0\n",
       "cause_of_emergency              0\n",
       "base_to_scene_distance          0\n",
       "scene_to_hospital_distance      0\n",
       "roadway_feature                 0\n",
       "road_type                       0\n",
       "surrounding_area                0\n",
       "dtype: int64"
      ]
     },
     "execution_count": 110,
     "metadata": {},
     "output_type": "execute_result"
    }
   ],
   "source": [
    "te.isnull().sum()"
   ]
  },
  {
   "cell_type": "code",
   "execution_count": 111,
   "metadata": {},
   "outputs": [
    {
     "data": {
      "text/plain": [
       "array(['Subhash Nagar', 'Coro Nation', 'Kewal Vihar', ...,\n",
       "       'Shartradhar Crosing', 'Ramsawala', 'Shimla Chowk'], dtype=object)"
      ]
     },
     "execution_count": 111,
     "metadata": {},
     "output_type": "execute_result"
    }
   ],
   "source": [
    "tr.incident_location.unique()"
   ]
  },
  {
   "cell_type": "code",
   "execution_count": 112,
   "metadata": {},
   "outputs": [
    {
     "data": {
      "text/plain": [
       "5521"
      ]
     },
     "execution_count": 112,
     "metadata": {},
     "output_type": "execute_result"
    }
   ],
   "source": [
    "tr.incident_location.nunique()"
   ]
  },
  {
   "cell_type": "code",
   "execution_count": 113,
   "metadata": {
    "collapsed": true
   },
   "outputs": [],
   "source": [
    "tr.incident_time=tr.incident_time.apply(lambda x: datetime.datetime.strptime(str(x),'%H:%M:%S'))\n",
    "te.incident_time=te.incident_time.apply(lambda x: datetime.datetime.strptime(str(x),'%H:%M:%S'))\n",
    "tr['Hour']=tr.incident_time.apply(lambda x: x.hour)\n",
    "te['Hour']=te.incident_time.apply(lambda x: x.hour)"
   ]
  },
  {
   "cell_type": "code",
   "execution_count": 114,
   "metadata": {
    "collapsed": true
   },
   "outputs": [],
   "source": [
    "tr.incident_date=tr.incident_date.apply(lambda x: datetime.datetime.strptime(str(x),'%d-%m-%Y'))\n",
    "te.incident_date=te.incident_date.apply(lambda x: datetime.datetime.strptime(str(x),'%d-%m-%Y'))"
   ]
  },
  {
   "cell_type": "code",
   "execution_count": 115,
   "metadata": {
    "collapsed": true
   },
   "outputs": [],
   "source": [
    "tr['Day']=tr.incident_date.apply(lambda x: x.day)\n",
    "tr['Month']=tr.incident_date.apply(lambda x: x.month)\n",
    "tr['Year']=tr.incident_date.apply(lambda x: x.year)\n",
    "tr['Weekday']=tr.incident_date.apply(lambda x: x.weekday())\n",
    "tr['Ordinal']=tr.incident_date.apply(lambda x: x.toordinal())\n",
    "\n",
    "te['Day']=te.incident_date.apply(lambda x: x.day)\n",
    "te['Month']=te.incident_date.apply(lambda x: x.month)\n",
    "te['Year']=te.incident_date.apply(lambda x: x.year)\n",
    "te['Weekday']=te.incident_date.apply(lambda x: x.weekday())\n",
    "te['Ordinal']=te.incident_date.apply(lambda x: x.toordinal())"
   ]
  },
  {
   "cell_type": "code",
   "execution_count": 116,
   "metadata": {},
   "outputs": [
    {
     "data": {
      "text/plain": [
       "0    11255\n",
       "1      522\n",
       "Name: criticality, dtype: int64"
      ]
     },
     "execution_count": 116,
     "metadata": {},
     "output_type": "execute_result"
    }
   ],
   "source": [
    "tr.criticality.value_counts()"
   ]
  },
  {
   "cell_type": "code",
   "execution_count": null,
   "metadata": {
    "collapsed": true
   },
   "outputs": [],
   "source": [
    "# As we can see from the count that this is a highly imbalanced dataset"
   ]
  },
  {
   "cell_type": "markdown",
   "metadata": {},
   "source": [
    "### Exploratory data analysis"
   ]
  },
  {
   "cell_type": "code",
   "execution_count": 117,
   "metadata": {},
   "outputs": [
    {
     "data": {
      "text/plain": [
       "21    48\n",
       "20    46\n",
       "18    33\n",
       "22    32\n",
       "19    31\n",
       "16    31\n",
       "13    31\n",
       "17    28\n",
       "14    28\n",
       "15    27\n",
       "9     26\n",
       "23    21\n",
       "10    20\n",
       "12    19\n",
       "0     17\n",
       "6     15\n",
       "11    15\n",
       "1     14\n",
       "7     13\n",
       "8     10\n",
       "5      7\n",
       "4      4\n",
       "3      3\n",
       "2      3\n",
       "Name: Hour, dtype: int64"
      ]
     },
     "execution_count": 117,
     "metadata": {},
     "output_type": "execute_result"
    }
   ],
   "source": [
    "tr[tr.criticality==1]['Hour'].value_counts()"
   ]
  },
  {
   "cell_type": "code",
   "execution_count": 118,
   "metadata": {},
   "outputs": [
    {
     "data": {
      "text/plain": [
       "20    927\n",
       "21    879\n",
       "19    829\n",
       "22    797\n",
       "18    782\n",
       "17    757\n",
       "16    669\n",
       "15    641\n",
       "14    585\n",
       "13    561\n",
       "12    513\n",
       "23    492\n",
       "10    449\n",
       "11    448\n",
       "9     408\n",
       "8     355\n",
       "7     274\n",
       "0     268\n",
       "6     159\n",
       "1     143\n",
       "5     107\n",
       "4      86\n",
       "2      68\n",
       "3      58\n",
       "Name: Hour, dtype: int64"
      ]
     },
     "execution_count": 118,
     "metadata": {},
     "output_type": "execute_result"
    }
   ],
   "source": [
    "tr[tr.criticality==0]['Hour'].value_counts()"
   ]
  },
  {
   "cell_type": "code",
   "execution_count": 140,
   "metadata": {},
   "outputs": [
    {
     "data": {
      "text/plain": [
       "<matplotlib.axes._subplots.AxesSubplot at 0xc926e78cf8>"
      ]
     },
     "execution_count": 140,
     "metadata": {},
     "output_type": "execute_result"
    },
    {
     "data": {
      "image/png": "[encoded data removed]",
      "text/plain": [
       "<matplotlib.figure.Figure at 0xc928a17860>"
      ]
     },
     "metadata": {},
     "output_type": "display_data"
    }
   ],
   "source": [
    "sns.boxplot(x=\"criticality\", y=\"scene_to_hospital_distance\", data=tr)"
   ]
  },
  {
   "cell_type": "code",
   "execution_count": 149,
   "metadata": {},
   "outputs": [
    {
     "data": {
      "text/plain": [
       "<matplotlib.axes._subplots.AxesSubplot at 0xc929a9da90>"
      ]
     },
     "execution_count": 149,
     "metadata": {},
     "output_type": "execute_result"
    },
    {
     "data": {
      "image/png": "[encoded data removed]",
      "text/plain": [
       "<matplotlib.figure.Figure at 0xc9298b2f98>"
      ]
     },
     "metadata": {},
     "output_type": "display_data"
    }
   ],
   "source": [
    "sns.boxplot(x=\"Hour\", y=\"cause_of_emergency\", data=tr)"
   ]
  },
  {
   "cell_type": "code",
   "execution_count": null,
   "metadata": {
    "collapsed": true
   },
   "outputs": [],
   "source": [
    "# We can typically see in which hour of the day accidents really happen"
   ]
  },
  {
   "cell_type": "code",
   "execution_count": 171,
   "metadata": {},
   "outputs": [
    {
     "data": {
      "text/plain": [
       "2009    178\n",
       "2013     89\n",
       "2014     87\n",
       "2012     74\n",
       "2010     60\n",
       "2011     34\n",
       "Name: Year, dtype: int64"
      ]
     },
     "execution_count": 171,
     "metadata": {},
     "output_type": "execute_result"
    }
   ],
   "source": [
    "tr[tr.criticality==1]['Year'].value_counts()"
   ]
  },
  {
   "cell_type": "code",
   "execution_count": 172,
   "metadata": {},
   "outputs": [
    {
     "data": {
      "text/plain": [
       "2013    2076\n",
       "2012    1971\n",
       "2014    1908\n",
       "2011    1881\n",
       "2010    1768\n",
       "2009    1651\n",
       "Name: Year, dtype: int64"
      ]
     },
     "execution_count": 172,
     "metadata": {},
     "output_type": "execute_result"
    }
   ],
   "source": [
    "tr[tr.criticality==0]['Year'].value_counts()"
   ]
  },
  {
   "cell_type": "code",
   "execution_count": null,
   "metadata": {
    "collapsed": true
   },
   "outputs": [],
   "source": [
    "# from the data, the accidents have particularly increased year by year"
   ]
  },
  {
   "cell_type": "code",
   "execution_count": 174,
   "metadata": {},
   "outputs": [
    {
     "data": {
      "image/png": "[encoded data removed]",
      "text/plain": [
       "<matplotlib.figure.Figure at 0xc936576550>"
      ]
     },
     "metadata": {},
     "output_type": "display_data"
    }
   ],
   "source": [
    "plt.hist(tr['road_type'])\n",
    "plt.show()"
   ]
  },
  {
   "cell_type": "code",
   "execution_count": 227,
   "metadata": {
    "collapsed": true
   },
   "outputs": [],
   "source": [
    "hm =tr.groupby(['surrounding_area','criticality']).count().sort_values(by='victim_id',ascending=False)"
   ]
  },
  {
   "cell_type": "code",
   "execution_count": 228,
   "metadata": {},
   "outputs": [
    {
     "data": {
      "text/html": [
       "<div>\n",
       "<style>\n",
       "    .dataframe thead tr:only-child th {\n",
       "        text-align: right;\n",
       "    }\n",
       "\n",
       "    .dataframe thead th {\n",
       "        text-align: left;\n",
       "    }\n",
       "\n",
       "    .dataframe tbody tr th {\n",
       "        vertical-align: top;\n",
       "    }\n",
       "</style>\n",
       "<table border=\"1\" class=\"dataframe\">\n",
       "  <thead>\n",
       "    <tr style=\"text-align: right;\">\n",
       "      <th></th>\n",
       "      <th></th>\n",
       "      <th>victim_id</th>\n",
       "      <th>incident_time</th>\n",
       "      <th>incident_date</th>\n",
       "      <th>incident_location</th>\n",
       "      <th>incident_tehsil</th>\n",
       "      <th>cause_of_emergency</th>\n",
       "      <th>base_to_scene_distance</th>\n",
       "      <th>scene_to_hospital_distance</th>\n",
       "      <th>roadway_feature</th>\n",
       "      <th>road_type</th>\n",
       "      <th>Hour</th>\n",
       "      <th>Day</th>\n",
       "      <th>Month</th>\n",
       "      <th>Year</th>\n",
       "      <th>Weekday</th>\n",
       "      <th>Ordinal</th>\n",
       "    </tr>\n",
       "    <tr>\n",
       "      <th>surrounding_area</th>\n",
       "      <th>criticality</th>\n",
       "      <th></th>\n",
       "      <th></th>\n",
       "      <th></th>\n",
       "      <th></th>\n",
       "      <th></th>\n",
       "      <th></th>\n",
       "      <th></th>\n",
       "      <th></th>\n",
       "      <th></th>\n",
       "      <th></th>\n",
       "      <th></th>\n",
       "      <th></th>\n",
       "      <th></th>\n",
       "      <th></th>\n",
       "      <th></th>\n",
       "      <th></th>\n",
       "    </tr>\n",
       "  </thead>\n",
       "  <tbody>\n",
       "    <tr>\n",
       "      <th>AGL</th>\n",
       "      <th>0</th>\n",
       "      <td>4661</td>\n",
       "      <td>4661</td>\n",
       "      <td>4661</td>\n",
       "      <td>4558</td>\n",
       "      <td>4661</td>\n",
       "      <td>4661</td>\n",
       "      <td>4661</td>\n",
       "      <td>4661</td>\n",
       "      <td>4661</td>\n",
       "      <td>4661</td>\n",
       "      <td>4661</td>\n",
       "      <td>4661</td>\n",
       "      <td>4661</td>\n",
       "      <td>4661</td>\n",
       "      <td>4661</td>\n",
       "      <td>4661</td>\n",
       "    </tr>\n",
       "    <tr>\n",
       "      <th>MAR</th>\n",
       "      <th>0</th>\n",
       "      <td>2490</td>\n",
       "      <td>2490</td>\n",
       "      <td>2490</td>\n",
       "      <td>2440</td>\n",
       "      <td>2490</td>\n",
       "      <td>2490</td>\n",
       "      <td>2490</td>\n",
       "      <td>2490</td>\n",
       "      <td>2490</td>\n",
       "      <td>2490</td>\n",
       "      <td>2490</td>\n",
       "      <td>2490</td>\n",
       "      <td>2490</td>\n",
       "      <td>2490</td>\n",
       "      <td>2490</td>\n",
       "      <td>2490</td>\n",
       "    </tr>\n",
       "    <tr>\n",
       "      <th>COL</th>\n",
       "      <th>0</th>\n",
       "      <td>1351</td>\n",
       "      <td>1351</td>\n",
       "      <td>1351</td>\n",
       "      <td>1293</td>\n",
       "      <td>1351</td>\n",
       "      <td>1351</td>\n",
       "      <td>1351</td>\n",
       "      <td>1351</td>\n",
       "      <td>1351</td>\n",
       "      <td>1351</td>\n",
       "      <td>1351</td>\n",
       "      <td>1351</td>\n",
       "      <td>1351</td>\n",
       "      <td>1351</td>\n",
       "      <td>1351</td>\n",
       "      <td>1351</td>\n",
       "    </tr>\n",
       "    <tr>\n",
       "      <th>FOR</th>\n",
       "      <th>0</th>\n",
       "      <td>1234</td>\n",
       "      <td>1234</td>\n",
       "      <td>1234</td>\n",
       "      <td>1194</td>\n",
       "      <td>1234</td>\n",
       "      <td>1234</td>\n",
       "      <td>1234</td>\n",
       "      <td>1234</td>\n",
       "      <td>1234</td>\n",
       "      <td>1234</td>\n",
       "      <td>1234</td>\n",
       "      <td>1234</td>\n",
       "      <td>1234</td>\n",
       "      <td>1234</td>\n",
       "      <td>1234</td>\n",
       "      <td>1234</td>\n",
       "    </tr>\n",
       "    <tr>\n",
       "      <th>HOSP</th>\n",
       "      <th>0</th>\n",
       "      <td>774</td>\n",
       "      <td>774</td>\n",
       "      <td>774</td>\n",
       "      <td>762</td>\n",
       "      <td>774</td>\n",
       "      <td>774</td>\n",
       "      <td>774</td>\n",
       "      <td>774</td>\n",
       "      <td>774</td>\n",
       "      <td>774</td>\n",
       "      <td>774</td>\n",
       "      <td>774</td>\n",
       "      <td>774</td>\n",
       "      <td>774</td>\n",
       "      <td>774</td>\n",
       "      <td>774</td>\n",
       "    </tr>\n",
       "    <tr>\n",
       "      <th>HIL</th>\n",
       "      <th>0</th>\n",
       "      <td>745</td>\n",
       "      <td>745</td>\n",
       "      <td>745</td>\n",
       "      <td>725</td>\n",
       "      <td>745</td>\n",
       "      <td>745</td>\n",
       "      <td>745</td>\n",
       "      <td>745</td>\n",
       "      <td>745</td>\n",
       "      <td>745</td>\n",
       "      <td>745</td>\n",
       "      <td>745</td>\n",
       "      <td>745</td>\n",
       "      <td>745</td>\n",
       "      <td>745</td>\n",
       "      <td>745</td>\n",
       "    </tr>\n",
       "    <tr>\n",
       "      <th>AGL</th>\n",
       "      <th>1</th>\n",
       "      <td>186</td>\n",
       "      <td>186</td>\n",
       "      <td>186</td>\n",
       "      <td>179</td>\n",
       "      <td>186</td>\n",
       "      <td>186</td>\n",
       "      <td>186</td>\n",
       "      <td>186</td>\n",
       "      <td>186</td>\n",
       "      <td>186</td>\n",
       "      <td>186</td>\n",
       "      <td>186</td>\n",
       "      <td>186</td>\n",
       "      <td>186</td>\n",
       "      <td>186</td>\n",
       "      <td>186</td>\n",
       "    </tr>\n",
       "    <tr>\n",
       "      <th>MAR</th>\n",
       "      <th>1</th>\n",
       "      <td>100</td>\n",
       "      <td>100</td>\n",
       "      <td>100</td>\n",
       "      <td>96</td>\n",
       "      <td>100</td>\n",
       "      <td>100</td>\n",
       "      <td>100</td>\n",
       "      <td>100</td>\n",
       "      <td>100</td>\n",
       "      <td>100</td>\n",
       "      <td>100</td>\n",
       "      <td>100</td>\n",
       "      <td>100</td>\n",
       "      <td>100</td>\n",
       "      <td>100</td>\n",
       "      <td>100</td>\n",
       "    </tr>\n",
       "    <tr>\n",
       "      <th>FOR</th>\n",
       "      <th>1</th>\n",
       "      <td>91</td>\n",
       "      <td>91</td>\n",
       "      <td>91</td>\n",
       "      <td>86</td>\n",
       "      <td>91</td>\n",
       "      <td>91</td>\n",
       "      <td>91</td>\n",
       "      <td>91</td>\n",
       "      <td>91</td>\n",
       "      <td>91</td>\n",
       "      <td>91</td>\n",
       "      <td>91</td>\n",
       "      <td>91</td>\n",
       "      <td>91</td>\n",
       "      <td>91</td>\n",
       "      <td>91</td>\n",
       "    </tr>\n",
       "    <tr>\n",
       "      <th>HOSP</th>\n",
       "      <th>1</th>\n",
       "      <td>72</td>\n",
       "      <td>72</td>\n",
       "      <td>72</td>\n",
       "      <td>68</td>\n",
       "      <td>72</td>\n",
       "      <td>72</td>\n",
       "      <td>72</td>\n",
       "      <td>72</td>\n",
       "      <td>72</td>\n",
       "      <td>72</td>\n",
       "      <td>72</td>\n",
       "      <td>72</td>\n",
       "      <td>72</td>\n",
       "      <td>72</td>\n",
       "      <td>72</td>\n",
       "      <td>72</td>\n",
       "    </tr>\n",
       "    <tr>\n",
       "      <th>COL</th>\n",
       "      <th>1</th>\n",
       "      <td>50</td>\n",
       "      <td>50</td>\n",
       "      <td>50</td>\n",
       "      <td>49</td>\n",
       "      <td>50</td>\n",
       "      <td>50</td>\n",
       "      <td>50</td>\n",
       "      <td>50</td>\n",
       "      <td>50</td>\n",
       "      <td>50</td>\n",
       "      <td>50</td>\n",
       "      <td>50</td>\n",
       "      <td>50</td>\n",
       "      <td>50</td>\n",
       "      <td>50</td>\n",
       "      <td>50</td>\n",
       "    </tr>\n",
       "    <tr>\n",
       "      <th>HIL</th>\n",
       "      <th>1</th>\n",
       "      <td>23</td>\n",
       "      <td>23</td>\n",
       "      <td>23</td>\n",
       "      <td>20</td>\n",
       "      <td>23</td>\n",
       "      <td>23</td>\n",
       "      <td>23</td>\n",
       "      <td>23</td>\n",
       "      <td>23</td>\n",
       "      <td>23</td>\n",
       "      <td>23</td>\n",
       "      <td>23</td>\n",
       "      <td>23</td>\n",
       "      <td>23</td>\n",
       "      <td>23</td>\n",
       "      <td>23</td>\n",
       "    </tr>\n",
       "  </tbody>\n",
       "</table>\n",
       "</div>"
      ],
      "text/plain": [
       "                              victim_id  incident_time  incident_date  \\\n",
       "surrounding_area criticality                                            \n",
       "AGL              0                 4661           4661           4661   \n",
       "MAR              0                 2490           2490           2490   \n",
       "COL              0                 1351           1351           1351   \n",
       "FOR              0                 1234           1234           1234   \n",
       "HOSP             0                  774            774            774   \n",
       "HIL              0                  745            745            745   \n",
       "AGL              1                  186            186            186   \n",
       "MAR              1                  100            100            100   \n",
       "FOR              1                   91             91             91   \n",
       "HOSP             1                   72             72             72   \n",
       "COL              1                   50             50             50   \n",
       "HIL              1                   23             23             23   \n",
       "\n",
       "                              incident_location  incident_tehsil  \\\n",
       "surrounding_area criticality                                       \n",
       "AGL              0                         4558             4661   \n",
       "MAR              0                         2440             2490   \n",
       "COL              0                         1293             1351   \n",
       "FOR              0                         1194             1234   \n",
       "HOSP             0                          762              774   \n",
       "HIL              0                          725              745   \n",
       "AGL              1                          179              186   \n",
       "MAR              1                           96              100   \n",
       "FOR              1                           86               91   \n",
       "HOSP             1                           68               72   \n",
       "COL              1                           49               50   \n",
       "HIL              1                           20               23   \n",
       "\n",
       "                              cause_of_emergency  base_to_scene_distance  \\\n",
       "surrounding_area criticality                                               \n",
       "AGL              0                          4661                    4661   \n",
       "MAR              0                          2490                    2490   \n",
       "COL              0                          1351                    1351   \n",
       "FOR              0                          1234                    1234   \n",
       "HOSP             0                           774                     774   \n",
       "HIL              0                           745                     745   \n",
       "AGL              1                           186                     186   \n",
       "MAR              1                           100                     100   \n",
       "FOR              1                            91                      91   \n",
       "HOSP             1                            72                      72   \n",
       "COL              1                            50                      50   \n",
       "HIL              1                            23                      23   \n",
       "\n",
       "                              scene_to_hospital_distance  roadway_feature  \\\n",
       "surrounding_area criticality                                                \n",
       "AGL              0                                  4661             4661   \n",
       "MAR              0                                  2490             2490   \n",
       "COL              0                                  1351             1351   \n",
       "FOR              0                                  1234             1234   \n",
       "HOSP             0                                   774              774   \n",
       "HIL              0                                   745              745   \n",
       "AGL              1                                   186              186   \n",
       "MAR              1                                   100              100   \n",
       "FOR              1                                    91               91   \n",
       "HOSP             1                                    72               72   \n",
       "COL              1                                    50               50   \n",
       "HIL              1                                    23               23   \n",
       "\n",
       "                              road_type  Hour   Day  Month  Year  Weekday  \\\n",
       "surrounding_area criticality                                                \n",
       "AGL              0                 4661  4661  4661   4661  4661     4661   \n",
       "MAR              0                 2490  2490  2490   2490  2490     2490   \n",
       "COL              0                 1351  1351  1351   1351  1351     1351   \n",
       "FOR              0                 1234  1234  1234   1234  1234     1234   \n",
       "HOSP             0                  774   774   774    774   774      774   \n",
       "HIL              0                  745   745   745    745   745      745   \n",
       "AGL              1                  186   186   186    186   186      186   \n",
       "MAR              1                  100   100   100    100   100      100   \n",
       "FOR              1                   91    91    91     91    91       91   \n",
       "HOSP             1                   72    72    72     72    72       72   \n",
       "COL              1                   50    50    50     50    50       50   \n",
       "HIL              1                   23    23    23     23    23       23   \n",
       "\n",
       "                              Ordinal  \n",
       "surrounding_area criticality           \n",
       "AGL              0               4661  \n",
       "MAR              0               2490  \n",
       "COL              0               1351  \n",
       "FOR              0               1234  \n",
       "HOSP             0                774  \n",
       "HIL              0                745  \n",
       "AGL              1                186  \n",
       "MAR              1                100  \n",
       "FOR              1                 91  \n",
       "HOSP             1                 72  \n",
       "COL              1                 50  \n",
       "HIL              1                 23  "
      ]
     },
     "execution_count": 228,
     "metadata": {},
     "output_type": "execute_result"
    }
   ],
   "source": [
    "hm"
   ]
  },
  {
   "cell_type": "code",
   "execution_count": null,
   "metadata": {
    "collapsed": true
   },
   "outputs": [],
   "source": [
    "# To our suprise a lot of accidents occured on the agricultural area "
   ]
  },
  {
   "cell_type": "code",
   "execution_count": 220,
   "metadata": {},
   "outputs": [
    {
     "data": {
      "text/plain": [
       "<matplotlib.axes._subplots.AxesSubplot at 0xc92f4c8978>"
      ]
     },
     "execution_count": 220,
     "metadata": {},
     "output_type": "execute_result"
    },
    {
     "data": {
      "image/png": "[encoded data removed]",
      "text/plain": [
       "<matplotlib.figure.Figure at 0xc933979470>"
      ]
     },
     "metadata": {},
     "output_type": "display_data"
    }
   ],
   "source": [
    "plt.figure(figsize=(12,8))\n",
    "\n",
    "sns.countplot(y='cause_of_emergency',data=tr,color='r',order = tr['cause_of_emergency'].value_counts().index)"
   ]
  },
  {
   "cell_type": "code",
   "execution_count": null,
   "metadata": {
    "collapsed": true
   },
   "outputs": [],
   "source": [
    "# The most frequent accidents are 2 Wheeler accidents"
   ]
  },
  {
   "cell_type": "markdown",
   "metadata": {},
   "source": [
    "### Feature Engineering"
   ]
  },
  {
   "cell_type": "code",
   "execution_count": null,
   "metadata": {
    "collapsed": true
   },
   "outputs": [],
   "source": [
    "# incident_tehsil is considered as nominal feature and all the other features are encoded ordinally."
   ]
  },
  {
   "cell_type": "code",
   "execution_count": 43,
   "metadata": {
    "collapsed": true
   },
   "outputs": [],
   "source": [
    "one_hot = pd.get_dummies(tr['incident_tehsil'])\n",
    "tr = tr.join(one_hot)"
   ]
  },
  {
   "cell_type": "code",
   "execution_count": 44,
   "metadata": {
    "collapsed": true
   },
   "outputs": [],
   "source": [
    "two_hot = pd.get_dummies(te['incident_tehsil'])\n",
    "te = te.join(two_hot)"
   ]
  },
  {
   "cell_type": "code",
   "execution_count": 46,
   "metadata": {
    "collapsed": true
   },
   "outputs": [],
   "source": [
    "def label_encoder(df,col):\n",
    "    le=LabelEncoder()\n",
    "    le.fit(df[col])\n",
    "    df[col]=le.transform(df[col])"
   ]
  },
  {
   "cell_type": "code",
   "execution_count": 47,
   "metadata": {
    "collapsed": true
   },
   "outputs": [],
   "source": [
    "label_encoder(tr,'cause_of_emergency')\n",
    "label_encoder(tr,'road_type')\n",
    "label_encoder(tr,'surrounding_area')\n",
    "label_encoder(tr,'roadway_feature')"
   ]
  },
  {
   "cell_type": "code",
   "execution_count": 48,
   "metadata": {
    "collapsed": true
   },
   "outputs": [],
   "source": [
    "label_encoder(te,'cause_of_emergency')\n",
    "label_encoder(te,'road_type')\n",
    "label_encoder(te,'surrounding_area')\n",
    "label_encoder(te,'roadway_feature')"
   ]
  },
  {
   "cell_type": "code",
   "execution_count": null,
   "metadata": {
    "collapsed": true
   },
   "outputs": [],
   "source": [
    "#New feature is created by adding base_to_scene and base_to_scene distances."
   ]
  },
  {
   "cell_type": "code",
   "execution_count": 51,
   "metadata": {
    "collapsed": true
   },
   "outputs": [],
   "source": [
    "tr['base_to_hospital_distance']=tr['base_to_scene_distance']+tr['scene_to_hospital_distance']\n",
    "te['base_to_hospital_distance']=te['base_to_scene_distance']+te['scene_to_hospital_distance']"
   ]
  },
  {
   "cell_type": "code",
   "execution_count": 53,
   "metadata": {},
   "outputs": [
    {
     "data": {
      "text/plain": [
       "(11777, 26)"
      ]
     },
     "execution_count": 53,
     "metadata": {},
     "output_type": "execute_result"
    }
   ],
   "source": [
    "tr.shape"
   ]
  },
  {
   "cell_type": "code",
   "execution_count": 54,
   "metadata": {},
   "outputs": [
    {
     "data": {
      "text/html": [
       "<div>\n",
       "<style>\n",
       "    .dataframe thead tr:only-child th {\n",
       "        text-align: right;\n",
       "    }\n",
       "\n",
       "    .dataframe thead th {\n",
       "        text-align: left;\n",
       "    }\n",
       "\n",
       "    .dataframe tbody tr th {\n",
       "        vertical-align: top;\n",
       "    }\n",
       "</style>\n",
       "<table border=\"1\" class=\"dataframe\">\n",
       "  <thead>\n",
       "    <tr style=\"text-align: right;\">\n",
       "      <th></th>\n",
       "      <th>victim_id</th>\n",
       "      <th>incident_time</th>\n",
       "      <th>incident_date</th>\n",
       "      <th>incident_location</th>\n",
       "      <th>incident_tehsil</th>\n",
       "      <th>cause_of_emergency</th>\n",
       "      <th>base_to_scene_distance</th>\n",
       "      <th>scene_to_hospital_distance</th>\n",
       "      <th>roadway_feature</th>\n",
       "      <th>road_type</th>\n",
       "      <th>...</th>\n",
       "      <th>Weekday</th>\n",
       "      <th>Ordinal</th>\n",
       "      <th>Chakrata</th>\n",
       "      <th>Dehradun</th>\n",
       "      <th>Doiwala</th>\n",
       "      <th>Kalsi</th>\n",
       "      <th>Raipur</th>\n",
       "      <th>Sahaspur</th>\n",
       "      <th>Vikasnagar</th>\n",
       "      <th>base_to_hospital_distance</th>\n",
       "    </tr>\n",
       "  </thead>\n",
       "  <tbody>\n",
       "    <tr>\n",
       "      <th>0</th>\n",
       "      <td>VIC20120001987267</td>\n",
       "      <td>1900-01-01 22:23:19</td>\n",
       "      <td>2012-11-07</td>\n",
       "      <td>Subhash Nagar</td>\n",
       "      <td>Raipur</td>\n",
       "      <td>9</td>\n",
       "      <td>13</td>\n",
       "      <td>12</td>\n",
       "      <td>0</td>\n",
       "      <td>0</td>\n",
       "      <td>...</td>\n",
       "      <td>2</td>\n",
       "      <td>734814</td>\n",
       "      <td>0</td>\n",
       "      <td>0</td>\n",
       "      <td>0</td>\n",
       "      <td>0</td>\n",
       "      <td>1</td>\n",
       "      <td>0</td>\n",
       "      <td>0</td>\n",
       "      <td>25</td>\n",
       "    </tr>\n",
       "    <tr>\n",
       "      <th>1</th>\n",
       "      <td>VIC20110002147887</td>\n",
       "      <td>1900-01-01 20:23:09</td>\n",
       "      <td>2011-11-02</td>\n",
       "      <td>Coro Nation</td>\n",
       "      <td>Raipur</td>\n",
       "      <td>0</td>\n",
       "      <td>1</td>\n",
       "      <td>5</td>\n",
       "      <td>0</td>\n",
       "      <td>0</td>\n",
       "      <td>...</td>\n",
       "      <td>2</td>\n",
       "      <td>734443</td>\n",
       "      <td>0</td>\n",
       "      <td>0</td>\n",
       "      <td>0</td>\n",
       "      <td>0</td>\n",
       "      <td>1</td>\n",
       "      <td>0</td>\n",
       "      <td>0</td>\n",
       "      <td>6</td>\n",
       "    </tr>\n",
       "    <tr>\n",
       "      <th>2</th>\n",
       "      <td>VIC20090001391483</td>\n",
       "      <td>1900-01-01 20:37:15</td>\n",
       "      <td>2009-07-25</td>\n",
       "      <td>Kewal Vihar</td>\n",
       "      <td>Raipur</td>\n",
       "      <td>10</td>\n",
       "      <td>2</td>\n",
       "      <td>2</td>\n",
       "      <td>1</td>\n",
       "      <td>1</td>\n",
       "      <td>...</td>\n",
       "      <td>5</td>\n",
       "      <td>733613</td>\n",
       "      <td>0</td>\n",
       "      <td>0</td>\n",
       "      <td>0</td>\n",
       "      <td>0</td>\n",
       "      <td>1</td>\n",
       "      <td>0</td>\n",
       "      <td>0</td>\n",
       "      <td>4</td>\n",
       "    </tr>\n",
       "    <tr>\n",
       "      <th>3</th>\n",
       "      <td>VIC20120000900722</td>\n",
       "      <td>1900-01-01 15:20:22</td>\n",
       "      <td>2012-05-19</td>\n",
       "      <td>I S B T</td>\n",
       "      <td>Raipur</td>\n",
       "      <td>0</td>\n",
       "      <td>8</td>\n",
       "      <td>4</td>\n",
       "      <td>0</td>\n",
       "      <td>0</td>\n",
       "      <td>...</td>\n",
       "      <td>5</td>\n",
       "      <td>734642</td>\n",
       "      <td>0</td>\n",
       "      <td>0</td>\n",
       "      <td>0</td>\n",
       "      <td>0</td>\n",
       "      <td>1</td>\n",
       "      <td>0</td>\n",
       "      <td>0</td>\n",
       "      <td>12</td>\n",
       "    </tr>\n",
       "    <tr>\n",
       "      <th>4</th>\n",
       "      <td>VIC20100001241285</td>\n",
       "      <td>1900-01-01 16:22:17</td>\n",
       "      <td>2010-06-12</td>\n",
       "      <td>Sahaspur Ambu</td>\n",
       "      <td>Sahaspur</td>\n",
       "      <td>0</td>\n",
       "      <td>1</td>\n",
       "      <td>26</td>\n",
       "      <td>0</td>\n",
       "      <td>0</td>\n",
       "      <td>...</td>\n",
       "      <td>5</td>\n",
       "      <td>733935</td>\n",
       "      <td>0</td>\n",
       "      <td>0</td>\n",
       "      <td>0</td>\n",
       "      <td>0</td>\n",
       "      <td>0</td>\n",
       "      <td>1</td>\n",
       "      <td>0</td>\n",
       "      <td>27</td>\n",
       "    </tr>\n",
       "  </tbody>\n",
       "</table>\n",
       "<p>5 rows × 26 columns</p>\n",
       "</div>"
      ],
      "text/plain": [
       "           victim_id       incident_time incident_date incident_location  \\\n",
       "0  VIC20120001987267 1900-01-01 22:23:19    2012-11-07     Subhash Nagar   \n",
       "1  VIC20110002147887 1900-01-01 20:23:09    2011-11-02       Coro Nation   \n",
       "2  VIC20090001391483 1900-01-01 20:37:15    2009-07-25       Kewal Vihar   \n",
       "3  VIC20120000900722 1900-01-01 15:20:22    2012-05-19           I S B T   \n",
       "4  VIC20100001241285 1900-01-01 16:22:17    2010-06-12     Sahaspur Ambu   \n",
       "\n",
       "  incident_tehsil  cause_of_emergency  base_to_scene_distance  \\\n",
       "0          Raipur                   9                      13   \n",
       "1          Raipur                   0                       1   \n",
       "2          Raipur                  10                       2   \n",
       "3          Raipur                   0                       8   \n",
       "4        Sahaspur                   0                       1   \n",
       "\n",
       "   scene_to_hospital_distance  roadway_feature  road_type  \\\n",
       "0                          12                0          0   \n",
       "1                           5                0          0   \n",
       "2                           2                1          1   \n",
       "3                           4                0          0   \n",
       "4                          26                0          0   \n",
       "\n",
       "             ...              Weekday  Ordinal  Chakrata  Dehradun  Doiwala  \\\n",
       "0            ...                    2   734814         0         0        0   \n",
       "1            ...                    2   734443         0         0        0   \n",
       "2            ...                    5   733613         0         0        0   \n",
       "3            ...                    5   734642         0         0        0   \n",
       "4            ...                    5   733935         0         0        0   \n",
       "\n",
       "   Kalsi  Raipur  Sahaspur  Vikasnagar  base_to_hospital_distance  \n",
       "0      0       1         0           0                         25  \n",
       "1      0       1         0           0                          6  \n",
       "2      0       1         0           0                          4  \n",
       "3      0       1         0           0                         12  \n",
       "4      0       0         1           0                         27  \n",
       "\n",
       "[5 rows x 26 columns]"
      ]
     },
     "execution_count": 54,
     "metadata": {},
     "output_type": "execute_result"
    }
   ],
   "source": [
    "tr.head()\n"
   ]
  },
  {
   "cell_type": "code",
   "execution_count": null,
   "metadata": {
    "collapsed": true
   },
   "outputs": [],
   "source": [
    "# Incident Location has been dropped for modelling as it has around 5000 locations"
   ]
  },
  {
   "cell_type": "code",
   "execution_count": 55,
   "metadata": {
    "collapsed": true
   },
   "outputs": [],
   "source": [
    "tr.drop(tr.columns[[0,1,2,3,4,6,7]], axis=1, inplace=True)"
   ]
  },
  {
   "cell_type": "code",
   "execution_count": 57,
   "metadata": {
    "collapsed": true
   },
   "outputs": [],
   "source": [
    "x = te.iloc[:, 0]"
   ]
  },
  {
   "cell_type": "code",
   "execution_count": 58,
   "metadata": {
    "collapsed": true
   },
   "outputs": [],
   "source": [
    "te.drop(te.columns[[0,1,2,3,4,6,7]], axis=1, inplace=True)"
   ]
  },
  {
   "cell_type": "code",
   "execution_count": 60,
   "metadata": {
    "collapsed": true
   },
   "outputs": [],
   "source": [
    "X = tr.ix[:, tr.columns != 'criticality']\n",
    "y = tr.ix[:, tr.columns == 'criticality']"
   ]
  },
  {
   "cell_type": "code",
   "execution_count": 61,
   "metadata": {},
   "outputs": [
    {
     "data": {
      "text/html": [
       "<div>\n",
       "<style>\n",
       "    .dataframe thead tr:only-child th {\n",
       "        text-align: right;\n",
       "    }\n",
       "\n",
       "    .dataframe thead th {\n",
       "        text-align: left;\n",
       "    }\n",
       "\n",
       "    .dataframe tbody tr th {\n",
       "        vertical-align: top;\n",
       "    }\n",
       "</style>\n",
       "<table border=\"1\" class=\"dataframe\">\n",
       "  <thead>\n",
       "    <tr style=\"text-align: right;\">\n",
       "      <th></th>\n",
       "      <th>cause_of_emergency</th>\n",
       "      <th>roadway_feature</th>\n",
       "      <th>road_type</th>\n",
       "      <th>surrounding_area</th>\n",
       "      <th>Hour</th>\n",
       "      <th>Day</th>\n",
       "      <th>Month</th>\n",
       "      <th>Year</th>\n",
       "      <th>Weekday</th>\n",
       "      <th>Ordinal</th>\n",
       "      <th>Chakrata</th>\n",
       "      <th>Dehradun</th>\n",
       "      <th>Doiwala</th>\n",
       "      <th>Kalsi</th>\n",
       "      <th>Raipur</th>\n",
       "      <th>Sahaspur</th>\n",
       "      <th>Vikasnagar</th>\n",
       "      <th>base_to_hospital_distance</th>\n",
       "    </tr>\n",
       "  </thead>\n",
       "  <tbody>\n",
       "    <tr>\n",
       "      <th>0</th>\n",
       "      <td>9</td>\n",
       "      <td>0</td>\n",
       "      <td>0</td>\n",
       "      <td>2</td>\n",
       "      <td>22</td>\n",
       "      <td>7</td>\n",
       "      <td>11</td>\n",
       "      <td>2012</td>\n",
       "      <td>2</td>\n",
       "      <td>734814</td>\n",
       "      <td>0</td>\n",
       "      <td>0</td>\n",
       "      <td>0</td>\n",
       "      <td>0</td>\n",
       "      <td>1</td>\n",
       "      <td>0</td>\n",
       "      <td>0</td>\n",
       "      <td>25</td>\n",
       "    </tr>\n",
       "    <tr>\n",
       "      <th>1</th>\n",
       "      <td>0</td>\n",
       "      <td>0</td>\n",
       "      <td>0</td>\n",
       "      <td>0</td>\n",
       "      <td>20</td>\n",
       "      <td>2</td>\n",
       "      <td>11</td>\n",
       "      <td>2011</td>\n",
       "      <td>2</td>\n",
       "      <td>734443</td>\n",
       "      <td>0</td>\n",
       "      <td>0</td>\n",
       "      <td>0</td>\n",
       "      <td>0</td>\n",
       "      <td>1</td>\n",
       "      <td>0</td>\n",
       "      <td>0</td>\n",
       "      <td>6</td>\n",
       "    </tr>\n",
       "    <tr>\n",
       "      <th>2</th>\n",
       "      <td>10</td>\n",
       "      <td>1</td>\n",
       "      <td>1</td>\n",
       "      <td>4</td>\n",
       "      <td>20</td>\n",
       "      <td>25</td>\n",
       "      <td>7</td>\n",
       "      <td>2009</td>\n",
       "      <td>5</td>\n",
       "      <td>733613</td>\n",
       "      <td>0</td>\n",
       "      <td>0</td>\n",
       "      <td>0</td>\n",
       "      <td>0</td>\n",
       "      <td>1</td>\n",
       "      <td>0</td>\n",
       "      <td>0</td>\n",
       "      <td>4</td>\n",
       "    </tr>\n",
       "    <tr>\n",
       "      <th>3</th>\n",
       "      <td>0</td>\n",
       "      <td>0</td>\n",
       "      <td>0</td>\n",
       "      <td>3</td>\n",
       "      <td>15</td>\n",
       "      <td>19</td>\n",
       "      <td>5</td>\n",
       "      <td>2012</td>\n",
       "      <td>5</td>\n",
       "      <td>734642</td>\n",
       "      <td>0</td>\n",
       "      <td>0</td>\n",
       "      <td>0</td>\n",
       "      <td>0</td>\n",
       "      <td>1</td>\n",
       "      <td>0</td>\n",
       "      <td>0</td>\n",
       "      <td>12</td>\n",
       "    </tr>\n",
       "    <tr>\n",
       "      <th>4</th>\n",
       "      <td>0</td>\n",
       "      <td>0</td>\n",
       "      <td>0</td>\n",
       "      <td>0</td>\n",
       "      <td>16</td>\n",
       "      <td>12</td>\n",
       "      <td>6</td>\n",
       "      <td>2010</td>\n",
       "      <td>5</td>\n",
       "      <td>733935</td>\n",
       "      <td>0</td>\n",
       "      <td>0</td>\n",
       "      <td>0</td>\n",
       "      <td>0</td>\n",
       "      <td>0</td>\n",
       "      <td>1</td>\n",
       "      <td>0</td>\n",
       "      <td>27</td>\n",
       "    </tr>\n",
       "  </tbody>\n",
       "</table>\n",
       "</div>"
      ],
      "text/plain": [
       "   cause_of_emergency  roadway_feature  road_type  surrounding_area  Hour  \\\n",
       "0                   9                0          0                 2    22   \n",
       "1                   0                0          0                 0    20   \n",
       "2                  10                1          1                 4    20   \n",
       "3                   0                0          0                 3    15   \n",
       "4                   0                0          0                 0    16   \n",
       "\n",
       "   Day  Month  Year  Weekday  Ordinal  Chakrata  Dehradun  Doiwala  Kalsi  \\\n",
       "0    7     11  2012        2   734814         0         0        0      0   \n",
       "1    2     11  2011        2   734443         0         0        0      0   \n",
       "2   25      7  2009        5   733613         0         0        0      0   \n",
       "3   19      5  2012        5   734642         0         0        0      0   \n",
       "4   12      6  2010        5   733935         0         0        0      0   \n",
       "\n",
       "   Raipur  Sahaspur  Vikasnagar  base_to_hospital_distance  \n",
       "0       1         0           0                         25  \n",
       "1       1         0           0                          6  \n",
       "2       1         0           0                          4  \n",
       "3       1         0           0                         12  \n",
       "4       0         1           0                         27  "
      ]
     },
     "execution_count": 61,
     "metadata": {},
     "output_type": "execute_result"
    }
   ],
   "source": [
    "X.head()"
   ]
  },
  {
   "cell_type": "code",
   "execution_count": null,
   "metadata": {
    "collapsed": true
   },
   "outputs": [],
   "source": [
    "#Cross-validation"
   ]
  },
  {
   "cell_type": "code",
   "execution_count": 73,
   "metadata": {},
   "outputs": [
    {
     "name": "stdout",
     "output_type": "stream",
     "text": [
      "0.754096220343\n"
     ]
    }
   ],
   "source": [
    "xg=XGBClassifier(learning_rate=0.1,n_estimators=100)\n",
    "score=cross_val_score(estimator=xg,X=X,y=y,cv=10,scoring='roc_auc')\n",
    "print(score.mean())"
   ]
  },
  {
   "cell_type": "code",
   "execution_count": 205,
   "metadata": {},
   "outputs": [
    {
     "name": "stdout",
     "output_type": "stream",
     "text": [
      "0.74180695433\n"
     ]
    }
   ],
   "source": [
    "ad=AdaBoostClassifier(learning_rate=1.0,n_estimators=100)\n",
    "score1=cross_val_score(estimator=ad,X=X,y=y,cv=10,scoring='roc_auc')\n",
    "print(score1.mean())"
   ]
  },
  {
   "cell_type": "code",
   "execution_count": 76,
   "metadata": {},
   "outputs": [
    {
     "name": "stdout",
     "output_type": "stream",
     "text": [
      "0.756540966119\n"
     ]
    }
   ],
   "source": [
    "cal=CalibratedClassifierCV(base_estimator=XGBClassifier(learning_rate=0.1),method='sigmoid',cv=10)\n",
    "score=cross_val_score(estimator=cal,cv=10,scoring='roc_auc',X=X,y=y)\n",
    "print(score.mean())"
   ]
  },
  {
   "cell_type": "markdown",
   "metadata": {},
   "source": [
    "### Modelling"
   ]
  },
  {
   "cell_type": "code",
   "execution_count": 77,
   "metadata": {
    "collapsed": true
   },
   "outputs": [],
   "source": [
    "X_train,X_test,y_train,y_test=train_test_split(X,y,test_size=0.3)"
   ]
  },
  {
   "cell_type": "code",
   "execution_count": 206,
   "metadata": {
    "collapsed": true
   },
   "outputs": [],
   "source": [
    "ad = AdaBoostClassifier(base_estimator=None, n_estimators=100, learning_rate=1.0)\n",
    "model=ad.fit(X_train,y_train,sample_weight=None)"
   ]
  },
  {
   "cell_type": "code",
   "execution_count": 207,
   "metadata": {
    "collapsed": true
   },
   "outputs": [],
   "source": [
    "y_pred=model.predict(X_test)"
   ]
  },
  {
   "cell_type": "code",
   "execution_count": 208,
   "metadata": {},
   "outputs": [
    {
     "name": "stdout",
     "output_type": "stream",
     "text": [
      "0.510470247442\n"
     ]
    }
   ],
   "source": [
    "print(roc_auc_score(y_test,y_pred))"
   ]
  },
  {
   "cell_type": "code",
   "execution_count": 188,
   "metadata": {},
   "outputs": [
    {
     "name": "stdout",
     "output_type": "stream",
     "text": [
      "0.9493491794\n",
      "[[3352    6]\n",
      " [ 173    3]]\n"
     ]
    }
   ],
   "source": [
    "print(accuracy_score(y_test,y_pred))\n",
    "print(confusion_matrix(y_test,y_pred))"
   ]
  },
  {
   "cell_type": "code",
   "execution_count": 183,
   "metadata": {
    "collapsed": true
   },
   "outputs": [],
   "source": [
    "y_pred1=model.predict_proba(X_test)"
   ]
  },
  {
   "cell_type": "code",
   "execution_count": 84,
   "metadata": {
    "collapsed": true
   },
   "outputs": [],
   "source": [
    "def run(X,y,test,params):\n",
    "    dtrain=xgb.DMatrix(X,label=y)\n",
    "    dtest=xgb.DMatrix(test)\n",
    "    bst=xgb.train(params,dtrain,89)\n",
    "    preds=bst.predict(dtest)\n",
    "    return bst,preds\n",
    "\n",
    "params={\n",
    "    'objective':'binary:logistic',\n",
    "    'eta':0.1\n",
    "}"
   ]
  },
  {
   "cell_type": "code",
   "execution_count": 186,
   "metadata": {
    "collapsed": true
   },
   "outputs": [],
   "source": [
    "bst,probs=run(X_train,y_train,X_test,params)"
   ]
  },
  {
   "cell_type": "code",
   "execution_count": 187,
   "metadata": {},
   "outputs": [
    {
     "name": "stdout",
     "output_type": "stream",
     "text": [
      "0.722713567329\n"
     ]
    }
   ],
   "source": [
    "print(roc_auc_score(y_test,probs))"
   ]
  },
  {
   "cell_type": "code",
   "execution_count": 87,
   "metadata": {
    "collapsed": true
   },
   "outputs": [],
   "source": [
    "preds=(probs>0.5).astype('int')"
   ]
  },
  {
   "cell_type": "code",
   "execution_count": 176,
   "metadata": {},
   "outputs": [
    {
     "data": {
      "text/plain": [
       "0.2857142857142857"
      ]
     },
     "execution_count": 176,
     "metadata": {},
     "output_type": "execute_result"
    }
   ],
   "source": [
    "precision_score(y_test,preds)"
   ]
  },
  {
   "cell_type": "code",
   "execution_count": 88,
   "metadata": {},
   "outputs": [
    {
     "name": "stdout",
     "output_type": "stream",
     "text": [
      "0.948500282965\n",
      "[[3348   10]\n",
      " [ 172    4]]\n"
     ]
    }
   ],
   "source": [
    "print(accuracy_score(y_test,preds))\n",
    "print(confusion_matrix(y_test,preds))"
   ]
  },
  {
   "cell_type": "code",
   "execution_count": 211,
   "metadata": {},
   "outputs": [
    {
     "name": "stdout",
     "output_type": "stream",
     "text": [
      "0.754096220343\n"
     ]
    }
   ],
   "source": [
    "xg=XGBClassifier(learning_rate=0.1,)\n",
    "score=cross_val_score(estimator=xg,cv=10,scoring='roc_auc',X=X,y=y)\n",
    "print(score.mean())"
   ]
  },
  {
   "cell_type": "code",
   "execution_count": 103,
   "metadata": {
    "collapsed": true
   },
   "outputs": [],
   "source": [
    "bst,probs=run(X.values,y.values,te,params)"
   ]
  },
  {
   "cell_type": "code",
   "execution_count": null,
   "metadata": {
    "collapsed": true
   },
   "outputs": [],
   "source": [
    "xg=XGBClassifier(learning_rate=0.1,n_estimators=100)\n",
    "xg.fit(X,y)\n",
    "probs=xg.predict_proba(te)\n",
    "probs=probs[:,1]"
   ]
  },
  {
   "cell_type": "code",
   "execution_count": 104,
   "metadata": {
    "collapsed": true
   },
   "outputs": [],
   "source": [
    "preds2=(probs>0.5).astype('int')"
   ]
  },
  {
   "cell_type": "code",
   "execution_count": 105,
   "metadata": {},
   "outputs": [
    {
     "data": {
      "text/plain": [
       "(5048,)"
      ]
     },
     "execution_count": 105,
     "metadata": {},
     "output_type": "execute_result"
    }
   ],
   "source": [
    "preds2.shape"
   ]
  },
  {
   "cell_type": "code",
   "execution_count": null,
   "metadata": {
    "collapsed": true
   },
   "outputs": [],
   "source": []
  }
 ],
 "metadata": {
  "kernelspec": {
   "display_name": "Python 3",
   "language": "python",
   "name": "python3"
  },
  "language_info": {
   "codemirror_mode": {
    "name": "ipython",
    "version": 3
   },
   "file_extension": ".py",
   "mimetype": "text/x-python",
   "name": "python",
   "nbconvert_exporter": "python",
   "pygments_lexer": "ipython3",
   "version": "3.6.3"
  }
 },
 "nbformat": 4,
 "nbformat_minor": 2
}
